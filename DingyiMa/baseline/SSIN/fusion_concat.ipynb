{
 "cells": [
  {
   "cell_type": "code",
   "execution_count": 1,
   "metadata": {},
   "outputs": [],
   "source": [
    "import pickle\n",
    "import numpy as np\n",
    "with open('train.pkl', 'rb') as file:\n",
    "    data = pickle.load(file)"
   ]
  },
  {
   "cell_type": "code",
   "execution_count": 2,
   "metadata": {},
   "outputs": [
    {
     "data": {
      "text/plain": [
       "array([[2.0120000e+03, 1.0000000e+00, 1.0000000e+00, ..., 9.2000000e+00,\n",
       "        0.0000000e+00, 0.0000000e+00],\n",
       "       [2.0120000e+03, 1.0000000e+00, 1.0000000e+00, ..., 1.5100000e+01,\n",
       "        0.0000000e+00, 0.0000000e+00],\n",
       "       [2.0120000e+03, 1.0000000e+00, 1.0000000e+00, ..., 1.8317552e+01,\n",
       "        0.0000000e+00, 0.0000000e+00],\n",
       "       ...,\n",
       "       [2.0120000e+03, 1.0000000e+00, 1.0000000e+00, ..., 0.0000000e+00,\n",
       "        0.0000000e+00, 0.0000000e+00],\n",
       "       [2.0120000e+03, 1.0000000e+00, 1.0000000e+00, ..., 0.0000000e+00,\n",
       "        0.0000000e+00, 0.0000000e+00],\n",
       "       [2.0120000e+03, 1.0000000e+00, 1.0000000e+00, ..., 0.0000000e+00,\n",
       "        0.0000000e+00, 0.0000000e+00]])"
      ]
     },
     "execution_count": 2,
     "metadata": {},
     "output_type": "execute_result"
    }
   ],
   "source": [
    "train=data[\"train_data\"]\n",
    "train[0]"
   ]
  },
  {
   "cell_type": "code",
   "execution_count": 3,
   "metadata": {},
   "outputs": [
    {
     "data": {
      "text/plain": [
       "(8784, 63, 18, 1)"
      ]
     },
     "execution_count": 3,
     "metadata": {},
     "output_type": "execute_result"
    }
   ],
   "source": [
    "train=data[\"train_data\"]\n",
    "train_data_expanded = np.expand_dims(train, axis=-1)\n",
    "train_data_expanded.shape"
   ]
  },
  {
   "cell_type": "code",
   "execution_count": 4,
   "metadata": {},
   "outputs": [
    {
     "data": {
      "text/plain": [
       "(8784, 18, 63, 1)"
      ]
     },
     "execution_count": 4,
     "metadata": {},
     "output_type": "execute_result"
    }
   ],
   "source": [
    "train_data_expanded = np.transpose(train_data_expanded, (0, 2, 1,3))\n",
    "train_data_expanded.shape"
   ]
  },
  {
   "cell_type": "code",
   "execution_count": 5,
   "metadata": {},
   "outputs": [],
   "source": [
    "train_data=train_data_expanded[:,5:,:,:]"
   ]
  },
  {
   "cell_type": "code",
   "execution_count": 6,
   "metadata": {},
   "outputs": [
    {
     "name": "stderr",
     "output_type": "stream",
     "text": [
      "d:\\anaconda3\\envs\\pytorch\\lib\\site-packages\\tqdm\\auto.py:21: TqdmWarning: IProgress not found. Please update jupyter and ipywidgets. See https://ipywidgets.readthedocs.io/en/stable/user_install.html\n",
      "  from .autonotebook import tqdm as notebook_tqdm\n"
     ]
    },
    {
     "name": "stdout",
     "output_type": "stream",
     "text": [
      "Output shape: torch.Size([8784, 63, 1])\n"
     ]
    }
   ],
   "source": [
    "import torch\n",
    "import torch.nn as nn\n",
    "import torch.nn.functional as F\n",
    "\n",
    "class ModifiedAFFWithSoftmax(nn.Module):\n",
    "    def __init__(self, channels=13, r=4, num_features=13):\n",
    "        super(ModifiedAFFWithSoftmax, self).__init__()\n",
    "        self.num_features = num_features\n",
    "        inter_channels = int(channels // r * num_features)\n",
    "        \n",
    "        self.local_att = nn.Sequential(\n",
    "            nn.Conv2d(channels, inter_channels, kernel_size=1, stride=1, padding=0),\n",
    "            nn.BatchNorm2d(inter_channels),\n",
    "            nn.ReLU(inplace=True),\n",
    "            nn.Conv2d(inter_channels, channels, kernel_size=1, stride=1, padding=0),\n",
    "            nn.BatchNorm2d(channels),\n",
    "        )\n",
    "        \n",
    "        self.global_att = nn.Sequential(\n",
    "            nn.AdaptiveAvgPool2d(1),\n",
    "            nn.Conv2d(channels, inter_channels, kernel_size=1, stride=1, padding=0),\n",
    "            nn.BatchNorm2d(inter_channels),\n",
    "            nn.ReLU(inplace=True),\n",
    "            nn.Conv2d(inter_channels, channels, kernel_size=1, stride=1, padding=0),\n",
    "            nn.BatchNorm2d(channels),\n",
    "        )\n",
    "\n",
    "    def forward(self, x):\n",
    "        xl = self.local_att(x)\n",
    "        xg = self.global_att(x)\n",
    "        xlg = xl + xg\n",
    "        \n",
    "        weights = xlg.view(xlg.size(0), self.num_features, -1)\n",
    "        weights = F.softmax(weights, dim=1)\n",
    "        weights = weights.view_as(xlg)\n",
    "        \n",
    "        separated_weights = torch.chunk(weights, self.num_features, dim=1)\n",
    "        weighted_features = [x[:, i:i+1, :, :] * separated_weights[i] for i in range(self.num_features)]\n",
    "        \n",
    "        output = torch.sum(torch.stack(weighted_features, dim=0), dim=0)\n",
    "\n",
    "        return output.squeeze(1)\n",
    "\n",
    "# 初始化模型\n",
    "model = ModifiedAFFWithSoftmax()\n",
    "\n",
    "# 生成模拟输入数据\n",
    "train_tensor = torch.from_numpy(train_data)  # Batch size 8784, 18 features, 41 sites, width 1\n",
    "train_tensor = train_tensor.float()\n",
    "\n",
    "# 前向传播\n",
    "output_tensor = model(train_tensor)\n",
    "\n",
    "# 打印输出形状\n",
    "print(\"Output shape:\", output_tensor.shape)"
   ]
  }
 ],
 "metadata": {
  "kernelspec": {
   "display_name": "pytorch",
   "language": "python",
   "name": "python3"
  },
  "language_info": {
   "codemirror_mode": {
    "name": "ipython",
    "version": 3
   },
   "file_extension": ".py",
   "mimetype": "text/x-python",
   "name": "python",
   "nbconvert_exporter": "python",
   "pygments_lexer": "ipython3",
   "version": "3.9.0"
  }
 },
 "nbformat": 4,
 "nbformat_minor": 2
}
