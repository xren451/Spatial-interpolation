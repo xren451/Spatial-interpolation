{
 "cells": [
  {
   "cell_type": "code",
   "execution_count": 46,
   "id": "initial_id",
   "metadata": {
    "collapsed": true,
    "ExecuteTime": {
     "end_time": "2023-11-11T21:57:03.482563494Z",
     "start_time": "2023-11-11T21:57:01.623332986Z"
    }
   },
   "outputs": [
    {
     "name": "stdout",
     "output_type": "stream",
     "text": [
      "['41001h2012.txt', '41008h2012.txt', '41012h2012.txt', '41013h2012.txt', '41024h2012.txt', '41037h2012.txt', '41038h2012.txt', '41040h2012.txt', '41041h2012.txt', '41043h2012.txt', '41044h2012.txt', '41046h2012.txt', '41047h2012.txt', '41048h2012.txt', '41049h2012.txt', '41053h2012.txt', '42001h2012.txt', '42002h2012.txt', '42012h2012.txt', '42020h2012.txt', '42035h2012.txt', '42036h2012.txt', '42040h2012.txt', '42055h2012.txt', '42057h2012.txt', '42058h2012.txt', '42059h2012.txt', '42060h2012.txt', '42085h2012.txt', '44005h2012.txt', '44007h2012.txt', '44008h2012.txt', '44009h2012.txt', '44011h2012.txt', '44014h2012.txt', '44020h2012.txt', '44024h2012.txt', '44025h2012.txt', '44027h2012.txt', '44029h2012.txt', '44030h2012.txt', '44032h2012.txt', '44033h2012.txt', '44034h2012.txt', '44037h2012.txt', '44061h2012.txt', '44065h2012.txt', '44067h2012.txt', '46001h2012.txt', '46002h2012.txt', '46006h2012.txt', '46011h2012.txt', '46012h2012.txt', '46013h2012.txt', '46014h2012.txt', '46022h2012.txt', '46026h2012.txt', '46027h2012.txt', '46028h2012.txt', '46029h2012.txt', '46035h2012.txt', '46041h2012.txt', '46042h2012.txt', '46047h2012.txt', '46050h2012.txt', '46053h2012.txt', '46054h2012.txt', '46061h2012.txt', '46069h2012.txt', '46070h2012.txt', '46075h2012.txt', '46076h2012.txt', '46077h2012.txt', '46082h2012.txt', '46083h2012.txt', '46086h2012.txt', '46088h2012.txt', '46089h2012.txt', '51000h2012.txt', '51002h2012.txt', '51101h2012.txt', '51201h2012.txt', 'babt2h2012.txt', 'burl1h2012.txt', 'buzm3h2012.txt', 'caro3h2012.txt', 'cdea2h2012.txt', 'cdrf1h2012.txt', 'chlv2h2012.txt', 'clkn7h2012.txt', 'dbln6h2012.txt', 'desw1h2012.txt', 'disw3h2012.txt', 'dpia1h2012.txt', 'ffia2h2012.txt', 'fwyf1h2012.txt', 'iosn3h2012.txt', 'lonf1h2012.txt', 'mdrm1h2012.txt', 'mism1h2012.txt', 'mkgm4h2012.txt', 'mlrf1h2012.txt', 'mlww3h2012.txt']\n"
     ]
    }
   ],
   "source": [
    "from basic_process import *\n",
    "import os\n",
    "import pandas as pd\n",
    "from sklearn import linear_model\n",
    "import random\n",
    "from pandas import read_csv\n",
    "import numpy as np\n",
    "pathroot='data/NDBC/all_stations'\n",
    "PATH_ROOT = os.getcwd()\n",
    "ROOT = os.path.join(PATH_ROOT, pathroot)\n",
    "filenames = os.listdir(ROOT)\n",
    "# 使用sort方法对文件名进行升序排序\n",
    "filenames.sort()\n",
    "# 打印排序后的文件名列表\n",
    "print(filenames)\n",
    "data = []\n",
    "for i in filenames:\n",
    "    PATH_CSV = os.path.join(ROOT, i)\n",
    "    with open(PATH_CSV, 'r') as file:\n",
    "# 使用splitlines()方法将文件内容按行分割成列表\n",
    "        content_list = file.read().splitlines()\n",
    "\n",
    "# 将列表转换为NumPy数组\n",
    "    content_matrix = np.array([list(map(float, line.split())) for line in content_list])\n",
    "    data.append(content_matrix)\n",
    "data = np.array(data).transpose(1, 2, 0)  #(8784,18,103)}"
   ]
  },
  {
   "cell_type": "code",
   "execution_count": 48,
   "outputs": [],
   "source": [
    "np.save('data/NDBC/all.npy',data)"
   ],
   "metadata": {
    "collapsed": false,
    "ExecuteTime": {
     "end_time": "2023-11-11T21:57:44.303232451Z",
     "start_time": "2023-11-11T21:57:43.959075485Z"
    }
   },
   "id": "40602660c1c8acd6"
  },
  {
   "cell_type": "code",
   "execution_count": 50,
   "outputs": [],
   "source": [
    "def arc2dis(LatA,LonA,LatB,LonB):\n",
    "    import numpy as np\n",
    "    import pandas as pd\n",
    "    import math\n",
    "    LatA,LatB,LonA,LonB = map(math.radians, [float(LatA), float(LatB), float(LonA), float(LonB)])\n",
    "    C = math.sin((LatA-LatB)/2)* math.sin((LatA-LatB)/2)+ math.cos(LatA)*math.cos(LatB)*math.sin((LonA-LonB)/2)*math.sin((LonA-LonB)/2)\n",
    "    ra=6378137\n",
    "    pi=3.1415926\n",
    "    dist=2*math.asin(math.sqrt(C))*6371000\n",
    "    dist=round(dist/1000,3)\n",
    "    return dist\n",
    "\n",
    "def adj_dist(lat_arr,long_arr):#计算初始距离，用a表示\n",
    "    u=[]\n",
    "    for i in range(lat_arr.shape[0]):\n",
    "        for j in range(long_arr.shape[0]):\n",
    "            u.append(arc2dis(lat_arr.iloc[i],long_arr.iloc[i],lat_arr.iloc[j],long_arr.iloc[j]))\n",
    "    u=np.array(u)\n",
    "    u=exp(-u**2/(2*(np.std(u))**2))\n",
    "    u=np.array(u)\n",
    "    a=u.reshape(len(lat_arr),len(long_arr))\n",
    "    adj=a\n",
    "    return adj\n",
    "def exp(a):#该函数输入列表类型的数据后，返回列表数据的指数。\n",
    "    exp_a=[]\n",
    "    for i in range(a.shape[0]):\n",
    "        exp_a.append(math.exp(a[i]))\n",
    "    return exp_a"
   ],
   "metadata": {
    "collapsed": false,
    "ExecuteTime": {
     "end_time": "2023-11-11T21:58:13.821388844Z",
     "start_time": "2023-11-11T21:58:13.801127789Z"
    }
   },
   "id": "4bd92831216d4303"
  },
  {
   "cell_type": "code",
   "execution_count": 55,
   "outputs": [],
   "source": [
    "Station_info=pd.read_csv('data/NDBC/Station_info.csv')\n",
    "NDBC_lat=pd.DataFrame(Station_info.iloc[:,1])\n",
    "NDBC_long=pd.DataFrame(Station_info.iloc[:,3])\n",
    "NDBC_ID=pd.DataFrame(Station_info.iloc[:,0])\n",
    "Adj_dist=adj_dist(NDBC_lat,NDBC_long)"
   ],
   "metadata": {
    "collapsed": false,
    "ExecuteTime": {
     "end_time": "2023-11-12T23:13:35.618533782Z",
     "start_time": "2023-11-12T23:13:34.966570092Z"
    }
   },
   "id": "d15c6e702aa3819e"
  },
  {
   "cell_type": "code",
   "execution_count": 52,
   "outputs": [],
   "source": [
    "np.save('data/NDBC/all_adj.npy',Adj_dist)"
   ],
   "metadata": {
    "collapsed": false,
    "ExecuteTime": {
     "end_time": "2023-11-11T21:58:44.724200489Z",
     "start_time": "2023-11-11T21:58:44.679526664Z"
    }
   },
   "id": "1eb06a1f57a63d5d"
  }
 ],
 "metadata": {
  "kernelspec": {
   "display_name": "Python 3",
   "language": "python",
   "name": "python3"
  },
  "language_info": {
   "codemirror_mode": {
    "name": "ipython",
    "version": 2
   },
   "file_extension": ".py",
   "mimetype": "text/x-python",
   "name": "python",
   "nbconvert_exporter": "python",
   "pygments_lexer": "ipython2",
   "version": "2.7.6"
  }
 },
 "nbformat": 4,
 "nbformat_minor": 5
}
