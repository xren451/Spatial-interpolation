{
 "cells": [
  {
   "cell_type": "markdown",
   "metadata": {},
   "source": [
    "### 猜想1：每个特征单独做全局和局部"
   ]
  },
  {
   "cell_type": "code",
   "execution_count": null,
   "metadata": {},
   "outputs": [],
   "source": [
    "import torch\n",
    "import torch.nn as nn\n",
    "import torch.nn.functional as F\n",
    "\n",
    "class MultiFeatureAFF(nn.Module):\n",
    "    def __init__(self, num_features, channels=64, r=4):\n",
    "        super(MultiFeatureAFF, self).__init__()\n",
    "        self.num_features = num_features\n",
    "        inter_channels = int(channels // r)\n",
    "        \n",
    "        # 对每个特征定义独立的局部和全局注意力机制\n",
    "        self.local_atts = nn.ModuleList([\n",
    "            nn.Sequential(\n",
    "                nn.Conv2d(channels, inter_channels, kernel_size=1, stride=1, padding=0),\n",
    "                nn.BatchNorm2d(inter_channels),\n",
    "                nn.ReLU(inplace=True),\n",
    "                nn.Conv2d(inter_channels, 1, kernel_size=1, stride=1, padding=0),\n",
    "            ) for _ in range(num_features)\n",
    "        ])\n",
    "        \n",
    "        self.global_atts = nn.ModuleList([\n",
    "            nn.Sequential(\n",
    "                nn.AdaptiveAvgPool2d(1),\n",
    "                nn.Conv2d(channels, inter_channels, kernel_size=1, stride=1, padding=0),\n",
    "                nn.BatchNorm2d(inter_channels),\n",
    "                nn.ReLU(inplace=True),\n",
    "                nn.Conv2d(inter_channels, 1, kernel_size=1, stride=1, padding=0),\n",
    "            ) for _ in range(num_features)\n",
    "        ])\n",
    "\n",
    "    def forward(self, features):\n",
    "        # 独立计算每个特征的局部和全局注意力权重\n",
    "        att_weights = []\n",
    "        for i, feature in enumerate(features):\n",
    "            local_weight = self.local_atts[i](feature)\n",
    "            global_weight = self.global_atts[i](feature)\n",
    "            att_weights.append(local_weight + global_weight)\n",
    "        \n",
    "        # 对所有特征的注意力权重进行softmax归一化\n",
    "        att_weights = torch.cat(att_weights, dim=1)\n",
    "        att_weights = F.softmax(att_weights, dim=1)\n",
    "        \n",
    "        # 独立加权每个特征，并计算加权和\n",
    "        weighted_features = []\n",
    "        start_idx = 0\n",
    "        for i, feature in enumerate(features):\n",
    "            end_idx = start_idx + 1\n",
    "            weights = att_weights[:, start_idx:end_idx, :, :]\n",
    "            weighted_feature = feature * weights\n",
    "            weighted_features.append(weighted_feature)\n",
    "            start_idx = end_idx\n",
    "        \n",
    "        output = sum(weighted_features)\n",
    "        return output\n"
   ]
  },
  {
   "cell_type": "markdown",
   "metadata": {},
   "source": [
    "### 猜想2：迭代两个特征的fusion做n次："
   ]
  },
  {
   "cell_type": "code",
   "execution_count": null,
   "metadata": {},
   "outputs": [],
   "source": [
    "import torch\n",
    "import torch.nn as nn\n",
    "\n",
    "class AFF(nn.Module):\n",
    "    '''\n",
    "    多特征融合 AFF\n",
    "    '''\n",
    "    def __init__(self, channels=64, r=4):\n",
    "        super(AFF, self).__init__()\n",
    "        inter_channels = int(channels // r)\n",
    "\n",
    "        self.local_att = nn.Sequential(\n",
    "            nn.Conv2d(channels, inter_channels, kernel_size=1, stride=1, padding=0),\n",
    "            nn.BatchNorm2d(inter_channels),\n",
    "            nn.ReLU(inplace=True),\n",
    "            nn.Conv2d(inter_channels, channels, kernel_size=1, stride=1, padding=0),\n",
    "            nn.BatchNorm2d(channels),\n",
    "        )\n",
    "\n",
    "        self.global_att = nn.Sequential(\n",
    "            nn.AdaptiveAvgPool2d(1),\n",
    "            nn.Conv2d(channels, inter_channels, kernel_size=1, stride=1, padding=0),\n",
    "            nn.BatchNorm2d(inter_channels),\n",
    "            nn.ReLU(inplace=True),\n",
    "            nn.Conv2d(inter_channels, channels, kernel_size=1, stride=1, padding=0),\n",
    "            nn.BatchNorm2d(channels),\n",
    "        )\n",
    "    \n",
    "        self.sigmoid = nn.Sigmoid()\n",
    "\n",
    "    def forward(self, x, residual):\n",
    "        xa = x + residual\n",
    "        xl = self.local_att(xa)\n",
    "        xg = self.global_att(xa)\n",
    "        xlg = xl + xg\n",
    "        wei = self.sigmoid(xlg)\n",
    "\n",
    "        xo = x * wei + residual * (1 - wei)\n",
    "        return xo\n",
    "\n",
    "def iterative_feature_fusion_with_aff(features, aff_module):\n",
    "    \"\"\"\n",
    "    使用AFF模块逐步融合多个特征的函数。\n",
    "    \n",
    "    :param features: 特征列表，每个特征是一个张量。\n",
    "    :param aff_module: 用于融合两个特征的AFF模块实例。\n",
    "    :return: 融合后的特征。\n",
    "    \"\"\"\n",
    "    if len(features) < 2:\n",
    "        raise ValueError(\"需要至少两个特征进行融合\")\n",
    "    \n",
    "    fused_feature = features[0]  # 初始化融合特征为列表中的第一个特征\n",
    "    for feature in features[1:]:\n",
    "        fused_feature = aff_module(fused_feature, feature)\n",
    "    \n",
    "    return fused_feature\n",
    "\n",
    "# 示例使用\n",
    "features = [torch.randn(1, 64, 32, 32) for _ in range(4)]  # 假设有4个特征\n",
    "aff_module = AFF(channels=64, r=4)\n",
    "\n",
    "fused_feature = iterative_feature_fusion_with_aff(features, aff_module)\n"
   ]
  },
  {
   "cell_type": "markdown",
   "metadata": {},
   "source": [
    "## 猜想3：只对单个特征做全局特征"
   ]
  },
  {
   "cell_type": "code",
   "execution_count": null,
   "metadata": {},
   "outputs": [],
   "source": [
    "import torch\n",
    "import torch.nn as nn\n",
    "import torch.nn.functional as F\n",
    "\n",
    "class MultiAFF(nn.Module):\n",
    "    def __init__(self, channels=64, r=4):\n",
    "        super(MultiAFF, self).__init__()\n",
    "        inter_channels = int(channels // r)\n",
    "        \n",
    "        # 只保留全局注意力机制\n",
    "        self.global_att = nn.Sequential(\n",
    "            nn.AdaptiveAvgPool2d(1),\n",
    "            nn.Conv2d(channels, inter_channels, kernel_size=1, stride=1, padding=0),\n",
    "            nn.BatchNorm2d(inter_channels),\n",
    "            nn.ReLU(inplace=True),\n",
    "            nn.Conv2d(inter_channels, 1, kernel_size=1, stride=1, padding=0),  # 输出通道数为1，用于计算权重\n",
    "        )\n",
    "\n",
    "    def forward(self, features):\n",
    "        # features 应该是一个特征列表\n",
    "        weights = []\n",
    "        for feature in features:\n",
    "            weights.append(self.global_att(feature))\n",
    "        \n",
    "        # 使用softmax计算权重\n",
    "        weights = torch.cat(weights, dim=1)  # 将权重沿通道维度拼接\n",
    "        weights = F.softmax(weights, dim=1)  # 计算softmax\n",
    "        \n",
    "        # 使用计算出的权重对特征进行加权求和\n",
    "        weighted_features = [features[i] * weights[:, i:i+1, :, :] for i in range(len(features))]\n",
    "        output = torch.sum(torch.stack(weighted_features), dim=0)\n",
    "        \n",
    "        return output\n"
   ]
  },
  {
   "cell_type": "markdown",
   "metadata": {},
   "source": [
    "## 猜想4：concat方法"
   ]
  },
  {
   "cell_type": "code",
   "execution_count": null,
   "metadata": {},
   "outputs": [],
   "source": [
    "import torch\n",
    "import torch.nn as nn\n",
    "import torch.nn.functional as F\n",
    "\n",
    "class ModifiedAFFWithSoftmax(nn.Module):\n",
    "    def __init__(self, channels=64, r=4, num_features=2):\n",
    "        super(ModifiedAFFWithSoftmax, self).__init__()\n",
    "        self.num_features = num_features\n",
    "        inter_channels = int(channels // r * num_features)  # 调整以适应拼接后的特征\n",
    "        \n",
    "        self.local_att = nn.Sequential(\n",
    "            nn.Conv2d(channels * num_features, inter_channels, kernel_size=1, stride=1, padding=0),\n",
    "            nn.BatchNorm2d(inter_channels),\n",
    "            nn.ReLU(inplace=True),\n",
    "            nn.Conv2d(inter_channels, channels * num_features, kernel_size=1, stride=1, padding=0),\n",
    "            nn.BatchNorm2d(channels * num_features),\n",
    "        )\n",
    "        \n",
    "        self.global_att = nn.Sequential(\n",
    "            nn.AdaptiveAvgPool2d(1),\n",
    "            nn.Conv2d(channels * num_features, inter_channels, kernel_size=1, stride=1, padding=0),\n",
    "            nn.BatchNorm2d(inter_channels),\n",
    "            nn.ReLU(inplace=True),\n",
    "            nn.Conv2d(inter_channels, channels * num_features, kernel_size=1, stride=1, padding=0),\n",
    "            nn.BatchNorm2d(channels * num_features),\n",
    "        )\n",
    "\n",
    "    def forward(self, features):\n",
    "        x = torch.cat(features, dim=1)  # 拼接特征\n",
    "        \n",
    "        # 局部和全局注意力\n",
    "        xl = self.local_att(x)\n",
    "        xg = self.global_att(x)\n",
    "        xlg = xl + xg\n",
    "        \n",
    "        # 应用softmax而非sigmoid\n",
    "        # 注意：需要reshape以适应softmax沿特定维度\n",
    "        weights = xlg.view(xlg.size(0), self.num_features, -1)\n",
    "        weights = F.softmax(weights, dim=1)\n",
    "        weights = weights.view_as(xlg)\n",
    "        \n",
    "        # 分离权重并应用于对应的特征\n",
    "        separated_weights = torch.chunk(weights, self.num_features, dim=1)\n",
    "        weighted_features = [features[i] * separated_weights[i] for i in range(self.num_features)]\n",
    "        \n",
    "        # 加权特征求和\n",
    "        output = torch.sum(torch.stack(weighted_features, dim=0), dim=0)\n",
    "\n",
    "        return output\n"
   ]
  },
  {
   "cell_type": "markdown",
   "metadata": {},
   "source": [
    "### 测试concat部分"
   ]
  },
  {
   "cell_type": "code",
   "execution_count": 32,
   "metadata": {},
   "outputs": [],
   "source": [
    "import pickle\n",
    "import numpy as np\n",
    "with open('train.pkl', 'rb') as file:\n",
    "    data = pickle.load(file)"
   ]
  },
  {
   "cell_type": "code",
   "execution_count": 33,
   "metadata": {},
   "outputs": [],
   "source": [
    "train=data[\"train_data\"]"
   ]
  },
  {
   "cell_type": "code",
   "execution_count": 34,
   "metadata": {},
   "outputs": [
    {
     "data": {
      "text/plain": [
       "array([[2.0120000e+03, 1.0000000e+00, 1.0000000e+00, ..., 9.2000000e+00,\n",
       "        0.0000000e+00, 0.0000000e+00],\n",
       "       [2.0120000e+03, 1.0000000e+00, 1.0000000e+00, ..., 1.5100000e+01,\n",
       "        0.0000000e+00, 0.0000000e+00],\n",
       "       [2.0120000e+03, 1.0000000e+00, 1.0000000e+00, ..., 1.8317552e+01,\n",
       "        0.0000000e+00, 0.0000000e+00],\n",
       "       ...,\n",
       "       [2.0120000e+03, 1.0000000e+00, 1.0000000e+00, ..., 0.0000000e+00,\n",
       "        0.0000000e+00, 0.0000000e+00],\n",
       "       [2.0120000e+03, 1.0000000e+00, 1.0000000e+00, ..., 0.0000000e+00,\n",
       "        0.0000000e+00, 0.0000000e+00],\n",
       "       [2.0120000e+03, 1.0000000e+00, 1.0000000e+00, ..., 0.0000000e+00,\n",
       "        0.0000000e+00, 0.0000000e+00]])"
      ]
     },
     "execution_count": 34,
     "metadata": {},
     "output_type": "execute_result"
    }
   ],
   "source": [
    "train[0]"
   ]
  },
  {
   "cell_type": "code",
   "execution_count": 35,
   "metadata": {},
   "outputs": [
    {
     "data": {
      "text/plain": [
       "(8784, 63, 18, 1)"
      ]
     },
     "execution_count": 35,
     "metadata": {},
     "output_type": "execute_result"
    }
   ],
   "source": [
    "train=data[\"train_data\"]\n",
    "train_data_expanded = np.expand_dims(train, axis=-1)\n",
    "train_data_expanded.shape"
   ]
  },
  {
   "cell_type": "code",
   "execution_count": 37,
   "metadata": {},
   "outputs": [
    {
     "data": {
      "text/plain": [
       "(8784, 18, 63, 1)"
      ]
     },
     "execution_count": 37,
     "metadata": {},
     "output_type": "execute_result"
    }
   ],
   "source": [
    "train_data_expanded = np.transpose(train_data_expanded, (0, 2, 1,3))\n",
    "train_data_expanded.shape"
   ]
  },
  {
   "cell_type": "code",
   "execution_count": 38,
   "metadata": {},
   "outputs": [],
   "source": [
    "train_data=train_data_expanded[:,5:,:,:]"
   ]
  },
  {
   "cell_type": "markdown",
   "metadata": {},
   "source": [
    "### 无敌实验"
   ]
  },
  {
   "cell_type": "code",
   "execution_count": 44,
   "metadata": {},
   "outputs": [
    {
     "name": "stdout",
     "output_type": "stream",
     "text": [
      "Output shape: torch.Size([8784, 63, 1])\n"
     ]
    }
   ],
   "source": [
    "import torch\n",
    "import torch.nn as nn\n",
    "import torch.nn.functional as F\n",
    "\n",
    "class ModifiedAFFWithSoftmax(nn.Module):\n",
    "    def __init__(self, channels=13, r=4, num_features=13):\n",
    "        super(ModifiedAFFWithSoftmax, self).__init__()\n",
    "        self.num_features = num_features\n",
    "        inter_channels = int(channels // r * num_features)\n",
    "        \n",
    "        self.local_att = nn.Sequential(\n",
    "            nn.Conv2d(channels, inter_channels, kernel_size=1, stride=1, padding=0),\n",
    "            nn.BatchNorm2d(inter_channels),\n",
    "            nn.ReLU(inplace=True),\n",
    "            nn.Conv2d(inter_channels, channels, kernel_size=1, stride=1, padding=0),\n",
    "            nn.BatchNorm2d(channels),\n",
    "        )\n",
    "        \n",
    "        self.global_att = nn.Sequential(\n",
    "            nn.AdaptiveAvgPool2d(1),\n",
    "            nn.Conv2d(channels, inter_channels, kernel_size=1, stride=1, padding=0),\n",
    "            nn.BatchNorm2d(inter_channels),\n",
    "            nn.ReLU(inplace=True),\n",
    "            nn.Conv2d(inter_channels, channels, kernel_size=1, stride=1, padding=0),\n",
    "            nn.BatchNorm2d(channels),\n",
    "        )\n",
    "\n",
    "    def forward(self, x):\n",
    "        xl = self.local_att(x)\n",
    "        xg = self.global_att(x)\n",
    "        xlg = xl + xg\n",
    "        \n",
    "        weights = xlg.view(xlg.size(0), self.num_features, -1)\n",
    "        weights = F.softmax(weights, dim=1)\n",
    "        weights = weights.view_as(xlg)\n",
    "        \n",
    "        separated_weights = torch.chunk(weights, self.num_features, dim=1)\n",
    "        weighted_features = [x[:, i:i+1, :, :] * separated_weights[i] for i in range(self.num_features)]\n",
    "        \n",
    "        output = torch.sum(torch.stack(weighted_features, dim=0), dim=0)\n",
    "\n",
    "        return output.squeeze(1)\n",
    "\n",
    "# 初始化模型\n",
    "model = ModifiedAFFWithSoftmax()\n",
    "\n",
    "# 生成模拟输入数据\n",
    "train_tensor = torch.from_numpy(train_data)  # Batch size 8784, 18 features, 41 sites, width 1\n",
    "train_tensor = train_tensor.float()\n",
    "\n",
    "# 前向传播\n",
    "output_tensor = model(train_tensor)\n",
    "\n",
    "# 打印输出形状\n",
    "print(\"Output shape:\", output_tensor.shape)\n"
   ]
  },
  {
   "cell_type": "code",
   "execution_count": null,
   "metadata": {},
   "outputs": [],
   "source": []
  }
 ],
 "metadata": {
  "kernelspec": {
   "display_name": "pytorch",
   "language": "python",
   "name": "python3"
  },
  "language_info": {
   "codemirror_mode": {
    "name": "ipython",
    "version": 3
   },
   "file_extension": ".py",
   "mimetype": "text/x-python",
   "name": "python",
   "nbconvert_exporter": "python",
   "pygments_lexer": "ipython3",
   "version": "3.9.0"
  }
 },
 "nbformat": 4,
 "nbformat_minor": 2
}
