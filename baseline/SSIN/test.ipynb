{
 "cells": [
  {
   "cell_type": "code",
   "execution_count": 182,
   "metadata": {},
   "outputs": [],
   "source": [
    "import numpy as np\n",
    "import matplotlib.pyplot as plt\n",
    "import pykrige.kriging_tools as kt\n",
    "from pykrige.ok import OrdinaryKriging\n",
    "import pandas as pd"
   ]
  },
  {
   "cell_type": "code",
   "execution_count": 183,
   "metadata": {},
   "outputs": [],
   "source": [
    "import pickle\n",
    "import numpy as np\n",
    "import pandas as pd\n",
    "from geographiclib.geodesic import Geodesic\n",
    "import os"
   ]
  },
  {
   "cell_type": "code",
   "execution_count": 184,
   "metadata": {},
   "outputs": [],
   "source": [
    "def get_all_filenames(folder_path):\n",
    "    filenames = []\n",
    "    for filename in os.listdir(folder_path):\n",
    "        filenames.append(filename)\n",
    "    return filenames"
   ]
  },
  {
   "cell_type": "code",
   "execution_count": 185,
   "metadata": {},
   "outputs": [],
   "source": [
    "folder_path = \"D:\\Spatial_interpolation\\SSIN\\data\\Air_quality-Shenzhen\"\n",
    "all_filenames = get_all_filenames(folder_path)"
   ]
  },
  {
   "cell_type": "code",
   "execution_count": 186,
   "metadata": {},
   "outputs": [],
   "source": [
    "file_result=[]\n",
    "for filename in all_filenames:\n",
    "    x=pd.read_csv(folder_path+\"/\"+filename)\n",
    "    x=np.array(x)\n",
    "    x=np.reshape(x,(7296, 6 ,1))\n",
    "    file_result.append(x)"
   ]
  },
  {
   "cell_type": "code",
   "execution_count": 187,
   "metadata": {},
   "outputs": [],
   "source": [
    "result=file_result[0]"
   ]
  },
  {
   "cell_type": "code",
   "execution_count": 188,
   "metadata": {},
   "outputs": [],
   "source": [
    "for i in range(1,len(file_result)):\n",
    "    result = np.append(result,file_result[i] , axis=2)"
   ]
  },
  {
   "cell_type": "code",
   "execution_count": 189,
   "metadata": {},
   "outputs": [],
   "source": [
    "X_raw=result"
   ]
  },
  {
   "cell_type": "code",
   "execution_count": 190,
   "metadata": {},
   "outputs": [],
   "source": [
    "j=5\n",
    "train_data=X_raw[:,j,:]\n",
    "columns_with_missing_data = np.any(np.isnan(train_data), axis=0)\n",
    "missing_columns = np.where(columns_with_missing_data)[0]\n",
    "result = np.delete(train_data, missing_columns, axis=1)\n",
    "result = (result - np.min(result)) / (np.max(result) - np.min(result))"
   ]
  },
  {
   "cell_type": "code",
   "execution_count": 191,
   "metadata": {},
   "outputs": [
    {
     "data": {
      "text/plain": [
       "array([], dtype=int64)"
      ]
     },
     "execution_count": 191,
     "metadata": {},
     "output_type": "execute_result"
    }
   ],
   "source": [
    "missing_columns"
   ]
  },
  {
   "cell_type": "code",
   "execution_count": 192,
   "metadata": {},
   "outputs": [
    {
     "data": {
      "text/plain": [
       "(7296, 10)"
      ]
     },
     "execution_count": 192,
     "metadata": {},
     "output_type": "execute_result"
    }
   ],
   "source": [
    "result.shape"
   ]
  },
  {
   "cell_type": "code",
   "execution_count": 193,
   "metadata": {},
   "outputs": [],
   "source": [
    "# train_list=[0,1,2,3,4,5,6,7,8,9,10,11,12,13,14,15,16,17,18,19,20,21,22,23,24,25,26,27,28,29,30,31,32,33,34,35,36,37,38,39,40,41,42]\n",
    "# test_list=[43,44,45,46,47,48,49,50,51,52,53,54,55,56,57,58,59,60,61,62,63,64,65,66,67,68,69,70,71,72,73,74,75,76]\n",
    "train_list=[0,1,2,3,4,5]\n",
    "test_list=[6,7,8,9]"
   ]
  },
  {
   "cell_type": "code",
   "execution_count": 194,
   "metadata": {},
   "outputs": [],
   "source": [
    "train_data=result[:,train_list]\n",
    "test_data=result[:,test_list]"
   ]
  },
  {
   "cell_type": "code",
   "execution_count": 195,
   "metadata": {},
   "outputs": [
    {
     "data": {
      "text/plain": [
       "6"
      ]
     },
     "execution_count": 195,
     "metadata": {},
     "output_type": "execute_result"
    }
   ],
   "source": [
    "len(train_data[0])"
   ]
  },
  {
   "cell_type": "code",
   "execution_count": 196,
   "metadata": {},
   "outputs": [
    {
     "data": {
      "text/plain": [
       "array([[0.00222222, 0.01777778, 0.03333333, 0.01333333, 0.00888889,\n",
       "        0.        ],\n",
       "       [0.00222222, 0.01111111, 0.02      , 0.00444444, 0.00222222,\n",
       "        0.        ],\n",
       "       [0.        , 0.00888889, 0.03111111, 0.00444444, 0.00222222,\n",
       "        0.        ],\n",
       "       ...,\n",
       "       [0.02666667, 0.00444444, 0.        , 0.01333333, 0.00666667,\n",
       "        0.01555556],\n",
       "       [0.02666667, 0.00222222, 0.        , 0.01333333, 0.01111111,\n",
       "        0.00666667],\n",
       "       [0.02666667, 0.00222222, 0.        , 0.01333333, 0.00666667,\n",
       "        0.00666667]])"
      ]
     },
     "execution_count": 196,
     "metadata": {},
     "output_type": "execute_result"
    }
   ],
   "source": [
    "train_data"
   ]
  },
  {
   "cell_type": "code",
   "execution_count": 197,
   "metadata": {},
   "outputs": [],
   "source": [
    "train_data = np.reshape(train_data, (7296, 6,1))\n",
    "test_data = np.reshape(test_data, (7296, 4,1))"
   ]
  },
  {
   "cell_type": "code",
   "execution_count": 198,
   "metadata": {},
   "outputs": [
    {
     "data": {
      "text/plain": [
       "array([[[0.00222222],\n",
       "        [0.01777778],\n",
       "        [0.03333333],\n",
       "        [0.01333333],\n",
       "        [0.00888889],\n",
       "        [0.        ]],\n",
       "\n",
       "       [[0.00222222],\n",
       "        [0.01111111],\n",
       "        [0.02      ],\n",
       "        [0.00444444],\n",
       "        [0.00222222],\n",
       "        [0.        ]],\n",
       "\n",
       "       [[0.        ],\n",
       "        [0.00888889],\n",
       "        [0.03111111],\n",
       "        [0.00444444],\n",
       "        [0.00222222],\n",
       "        [0.        ]],\n",
       "\n",
       "       ...,\n",
       "\n",
       "       [[0.02666667],\n",
       "        [0.00444444],\n",
       "        [0.        ],\n",
       "        [0.01333333],\n",
       "        [0.00666667],\n",
       "        [0.01555556]],\n",
       "\n",
       "       [[0.02666667],\n",
       "        [0.00222222],\n",
       "        [0.        ],\n",
       "        [0.01333333],\n",
       "        [0.01111111],\n",
       "        [0.00666667]],\n",
       "\n",
       "       [[0.02666667],\n",
       "        [0.00222222],\n",
       "        [0.        ],\n",
       "        [0.01333333],\n",
       "        [0.00666667],\n",
       "        [0.00666667]]])"
      ]
     },
     "execution_count": 198,
     "metadata": {},
     "output_type": "execute_result"
    }
   ],
   "source": [
    "train_data"
   ]
  },
  {
   "cell_type": "code",
   "execution_count": 199,
   "metadata": {},
   "outputs": [],
   "source": [
    "stations = pd.read_csv(\"D:\\Spatial_interpolation\\SSIN\\data\\location_of_Shenzhen.csv\")"
   ]
  },
  {
   "cell_type": "code",
   "execution_count": 200,
   "metadata": {},
   "outputs": [],
   "source": [
    "df_train=stations.iloc[0:6]\n",
    "df_test=stations.iloc[6:10]"
   ]
  },
  {
   "cell_type": "code",
   "execution_count": 201,
   "metadata": {},
   "outputs": [],
   "source": [
    "# train_info=np.c_[df_train[\"lat\"],df_train[\"lon\"]]\n",
    "# test_info=np.c_[df_test[\"lat\"],df_test[\"lon\"]]"
   ]
  },
  {
   "cell_type": "code",
   "execution_count": 202,
   "metadata": {},
   "outputs": [],
   "source": [
    "# xls = np.linspace(0,100,100)\n",
    "# yls = np.linspace(0,100,100)\n",
    "# xgrid,ygrid = np.meshgrid(xls,yls)\n",
    "# OK = OrdinaryKriging(\n",
    "#     data[:, 0],\n",
    "#     data[:, 1],\n",
    "#     data[:, 2],\n",
    "#     variogram_model=\"linear\",\n",
    "#     verbose=False,\n",
    "#     enable_plotting=False,\n",
    "# )"
   ]
  },
  {
   "cell_type": "code",
   "execution_count": 203,
   "metadata": {},
   "outputs": [],
   "source": [
    "result=[]\n",
    "for i in range(len(train_data)):\n",
    "    OK = OrdinaryKriging(\n",
    "    df_train[\"lat\"],\n",
    "    df_train[\"lon\"],\n",
    "    train_data[i],\n",
    "    variogram_model=\"linear\",\n",
    "    verbose=False,\n",
    "    enable_plotting=False,\n",
    "    )\n",
    "    z, ss = OK.execute(\"points\", df_test[\"lat\"], df_test[\"lon\"])\n",
    "    result.append(z)"
   ]
  },
  {
   "cell_type": "code",
   "execution_count": 204,
   "metadata": {},
   "outputs": [],
   "source": [
    "\n",
    "test_data = np.reshape(test_data, (29184))"
   ]
  },
  {
   "cell_type": "code",
   "execution_count": 205,
   "metadata": {},
   "outputs": [],
   "source": [
    "result=np.array(result)"
   ]
  },
  {
   "cell_type": "code",
   "execution_count": 206,
   "metadata": {},
   "outputs": [],
   "source": [
    "result=np.reshape(result, (29184))"
   ]
  },
  {
   "cell_type": "markdown",
   "metadata": {},
   "source": [
    "## MAE"
   ]
  },
  {
   "cell_type": "code",
   "execution_count": 207,
   "metadata": {},
   "outputs": [
    {
     "data": {
      "text/plain": [
       "0.010816361267112893"
      ]
     },
     "execution_count": 207,
     "metadata": {},
     "output_type": "execute_result"
    }
   ],
   "source": [
    "sum(abs(test_data-result))/(7296*4)"
   ]
  },
  {
   "cell_type": "markdown",
   "metadata": {},
   "source": [
    "## RMSE"
   ]
  },
  {
   "cell_type": "code",
   "execution_count": 208,
   "metadata": {},
   "outputs": [
    {
     "data": {
      "text/plain": [
       "0.01893948585322329"
      ]
     },
     "execution_count": 208,
     "metadata": {},
     "output_type": "execute_result"
    }
   ],
   "source": [
    "import math\n",
    "math.sqrt(sum((test_data-result)**2)/(7296*4))"
   ]
  },
  {
   "cell_type": "markdown",
   "metadata": {},
   "source": [
    "### 另外的参数"
   ]
  },
  {
   "cell_type": "code",
   "execution_count": 209,
   "metadata": {},
   "outputs": [],
   "source": [
    "result=[]\n",
    "for i in range(len(train_data)):\n",
    "    OK = OrdinaryKriging(\n",
    "    df_train[\"lat\"],\n",
    "    df_train[\"lon\"],\n",
    "    train_data[i],\n",
    "    variogram_model=\"gaussian\",\n",
    "    verbose=False,\n",
    "    enable_plotting=False,\n",
    "    )\n",
    "    z, ss = OK.execute(\"points\", df_test[\"lat\"], df_test[\"lon\"])\n",
    "    result.append(z)"
   ]
  },
  {
   "cell_type": "code",
   "execution_count": 210,
   "metadata": {},
   "outputs": [],
   "source": [
    "result=np.array(result)\n",
    "result=np.reshape(result, (29184))"
   ]
  },
  {
   "cell_type": "code",
   "execution_count": 211,
   "metadata": {},
   "outputs": [
    {
     "data": {
      "text/plain": [
       "0.010348189948649292"
      ]
     },
     "execution_count": 211,
     "metadata": {},
     "output_type": "execute_result"
    }
   ],
   "source": [
    "sum(abs(test_data-result))/(7296*4)"
   ]
  },
  {
   "cell_type": "code",
   "execution_count": 212,
   "metadata": {},
   "outputs": [
    {
     "data": {
      "text/plain": [
       "0.018375626492026495"
      ]
     },
     "execution_count": 212,
     "metadata": {},
     "output_type": "execute_result"
    }
   ],
   "source": [
    "math.sqrt(sum((test_data-result)**2)/(7296*4))"
   ]
  },
  {
   "cell_type": "markdown",
   "metadata": {},
   "source": [
    "## SSIN"
   ]
  },
  {
   "cell_type": "code",
   "execution_count": 213,
   "metadata": {},
   "outputs": [],
   "source": [
    "# result_SSIN=pd.read_csv('test_ret.csv')"
   ]
  },
  {
   "cell_type": "markdown",
   "metadata": {},
   "source": [
    "## MAE"
   ]
  },
  {
   "cell_type": "code",
   "execution_count": 214,
   "metadata": {},
   "outputs": [],
   "source": [
    "# sum(abs(result_SSIN['pred']-result_SSIN[\"label\"]))/len(result_SSIN)"
   ]
  },
  {
   "cell_type": "markdown",
   "metadata": {},
   "source": [
    "## RMSE"
   ]
  },
  {
   "cell_type": "code",
   "execution_count": 215,
   "metadata": {},
   "outputs": [],
   "source": [
    "# math.sqrt(sum((result_SSIN['pred']-result_SSIN[\"label\"])**2)/len(result_SSIN))"
   ]
  },
  {
   "cell_type": "markdown",
   "metadata": {},
   "source": [
    "## kriging"
   ]
  }
 ],
 "metadata": {
  "kernelspec": {
   "display_name": "pytorch",
   "language": "python",
   "name": "python3"
  },
  "language_info": {
   "codemirror_mode": {
    "name": "ipython",
    "version": 3
   },
   "file_extension": ".py",
   "mimetype": "text/x-python",
   "name": "python",
   "nbconvert_exporter": "python",
   "pygments_lexer": "ipython3",
   "version": "3.9.0"
  }
 },
 "nbformat": 4,
 "nbformat_minor": 2
}
